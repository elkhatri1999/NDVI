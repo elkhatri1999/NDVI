{
 "cells": [
  {
   "cell_type": "code",
   "execution_count": 1,
   "metadata": {},
   "outputs": [],
   "source": [
    "import geemap\n",
    "import ee"
   ]
  },
  {
   "cell_type": "code",
   "execution_count": 2,
   "metadata": {},
   "outputs": [
    {
     "data": {
      "application/vnd.jupyter.widget-view+json": {
       "model_id": "3af6abc1f4354d3c9af7457638675aff",
       "version_major": 2,
       "version_minor": 0
      },
      "text/plain": [
       "Map(center=[40, -100], controls=(WidgetControl(options=['position'], widget=HBox(children=(ToggleButton(value=…"
      ]
     },
     "metadata": {},
     "output_type": "display_data"
    }
   ],
   "source": [
    "Map=geemap.Map()\n",
    "Map"
   ]
  },
  {
   "cell_type": "code",
   "execution_count": 3,
   "metadata": {},
   "outputs": [],
   "source": [
    "#Area of Interest\n",
    "AOI= ee.Geometry.Polygon([[[-6,34],\n",
    "          [-7,34],\n",
    "          [-7,34.5],\n",
    "          [-6,34.5]]])"
   ]
  },
  {
   "cell_type": "code",
   "execution_count": 4,
   "metadata": {},
   "outputs": [
    {
     "name": "stdout",
     "output_type": "stream",
     "text": [
      "Generating URL...\n",
      "Downloading GIF image from https://earthengine.googleapis.com/v1alpha/projects/earthengine-legacy/videoThumbnails/d8e757417a99407b2f91139b0e1d39b3-01f796a877efbbfb33bdf6ea011d4708:getPixels\n",
      "Please wait ...\n",
      "The GIF image has been saved to: C:\\Users\\Nabil el khatri\\Downloads\\landsat_ts_mef.gif\n",
      "Generating URL...\n",
      "Downloading GIF image from https://earthengine.googleapis.com/v1alpha/projects/earthengine-legacy/videoThumbnails/b06c5e0bd2ef288c22da9424b0c3ae97-1e5d60c21627543676c95c8ed215a6c3:getPixels\n",
      "Please wait ...\n",
      "The GIF image has been saved to: C:\\Users\\Nabil el khatri\\Downloads\\landsat_ts_mef_nd.gif\n",
      "Adding animated text to GIF ...\n",
      "Adding GIF to the map ...\n",
      "The timelapse has been added to the map.\n"
     ]
    }
   ],
   "source": [
    "#Creat a real and NDVI's timelapse to show the forest evolution \n",
    "label = 'Evolution de la Maamora depuis 1985'\n",
    "Map.add_landsat_ts_gif(label= label, bands=['SWIR1', 'NIR', 'Red'], nd_bands=['NIR', 'Red'], nd_palette=['black','green'], nd_threshold=0.3,roi=AOI, start_year=1985, start_date='01-01', end_date='10-31', frames_per_second=10, progress_bar_color='blue')\n"
   ]
  },
  {
   "cell_type": "code",
   "execution_count": 5,
   "metadata": {},
   "outputs": [],
   "source": [
    "legend_keys = ['vegetation dense','vegetation claire']\n",
    " #colorS can be defined using either hex code or RGB (0-255, 0-255, 0-255)\n",
    "\n",
    "legend_colors = ['#008000','#000000']\n",
    "\n",
    "Map.add_legend(legend_keys=legend_keys, legend_colors=legend_colors, position='bottomleft')"
   ]
  }
 ],
 "metadata": {
  "kernelspec": {
   "display_name": "Python 3",
   "language": "python",
   "name": "python3"
  },
  "language_info": {
   "codemirror_mode": {
    "name": "ipython",
    "version": 3
   },
   "file_extension": ".py",
   "mimetype": "text/x-python",
   "name": "python",
   "nbconvert_exporter": "python",
   "pygments_lexer": "ipython3",
   "version": "3.8.3"
  }
 },
 "nbformat": 4,
 "nbformat_minor": 4
}
